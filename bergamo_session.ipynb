{
 "cells": [
  {
   "cell_type": "code",
   "execution_count": 1,
   "id": "700ea92f-d192-4aa7-a273-013695e3353b",
   "metadata": {},
   "outputs": [],
   "source": [
    "\n",
    "\n",
    "from datetime import datetime\n",
    "from pathlib import Path\n",
    "\n",
    "from aind_metadata_mapper.bergamo.session import (\n",
    "    BergamoEtl,\n",
    "    JobSettings,\n",
    "    RawImageInfo,\n",
    ")\n",
    "\n"
   ]
  },
  {
   "cell_type": "code",
   "execution_count": 2,
   "id": "9aacba75-b031-4115-af64-4e08f0db77e1",
   "metadata": {},
   "outputs": [
    {
     "data": {
      "text/plain": [
       "'a'"
      ]
     },
     "execution_count": 2,
     "metadata": {},
     "output_type": "execute_result"
    }
   ],
   "source": [
    "'a'"
   ]
  },
  {
   "cell_type": "code",
   "execution_count": null,
   "id": "5f5d4361-3946-4dcf-81af-05a90daad101",
   "metadata": {},
   "outputs": [
    {
     "name": "stdout",
     "output_type": "stream",
     "text": [
      "metadata already exist with same version, skipping BCI_29-041922\n",
      "single neuron BCI conditioning\n",
      "metadata already exist with same version, skipping BCI_29-042022\n",
      "single neuron BCI conditioning\n",
      "metadata already exist with same version, skipping BCI_29-042122\n",
      "single neuron BCI conditioning\n",
      "metadata already exist with same version, skipping BCI_29-042222\n",
      "single neuron BCI conditioning\n",
      "metadata already exist with same version, skipping BCI_29-042522\n",
      "single neuron BCI conditioning\n",
      "metadata already exist with same version, skipping BCI_29-042722\n",
      "single neuron BCI conditioning\n",
      "metadata already exist with same version, skipping BCI_29-042822\n",
      "single neuron BCI conditioning\n",
      "metadata already exist with same version, skipping BCI_29-042922\n",
      "single neuron BCI conditioning\n",
      "error during generating metadata.. skipping\n",
      "metadata already exist with same version, skipping BCI_29-050422\n",
      "single neuron BCI conditioning\n"
     ]
    }
   ],
   "source": [
    "import pandas as pd\n",
    "import os,datetime,json\n",
    "import numpy as np\n",
    "version = 3\n",
    "overwrite_metadata = False\n",
    "extracted_data_folders = '/home/jupyter/bucket/CodeOcean_transfer/'\n",
    "upload_job_pd = pd.read_csv(os.path.join(extracted_data_folders,'uplpoad_job.csv'))\n",
    "for session_row in upload_job_pd.iterrows():\n",
    "    session_row = session_row[1]\n",
    "    \n",
    "    \n",
    "        # check if metadata is already done\n",
    "    \n",
    "    ophys_dir = ''\n",
    "    behavior_dir = ''\n",
    "    behavior_video_dir = ''\n",
    "    behavior_data = ''\n",
    "    goodtrials = []\n",
    "    hittrials = []\n",
    "    is_side_camera_active = False\n",
    "    is_bottom_camera_active = False\n",
    "    for modality_i in np.arange(10):\n",
    "        if 'modality{}'.format(modality_i) not in session_row.keys():\n",
    "            break\n",
    "        if session_row['modality{}'.format(modality_i)] == 'ophys':\n",
    "            ophys_dir =  session_row['modality{}.source'.format(modality_i)]\n",
    "        elif session_row['modality{}'.format(modality_i)] == 'trained_behavior':\n",
    "            behavior_dir =  session_row['modality{}.source'.format(modality_i)]\n",
    "        elif session_row['modality{}'.format(modality_i)] == 'behavior_videos':\n",
    "            behavior_video_dir =  session_row['modality{}.source'.format(modality_i)]\n",
    "    \n",
    "    \n",
    "    \n",
    "    try:    \n",
    "        with open(Path('/'.join(behavior_dir.split('/')[:-1]),'session.json')) as json_data:\n",
    "            d = json.load(json_data)\n",
    "            json_data.close()\n",
    "        version_now = int(d['notes'][d['notes'].find('version')+7:])\n",
    "    except:\n",
    "        version_now = 0\n",
    "    if version_now == version and overwrite_metadata==False:\n",
    "        print('metadata already exist with same version, skipping {}'.format(behavior_dir.split('/')[-2]))\n",
    "    else:\n",
    "        print('extracting metadata for {}'.format(behavior_dir.split('/')[-2]))\n",
    "        \n",
    "        \n",
    "    \n",
    "    behavior_files = os.listdir(behavior_dir)\n",
    "    for behavior_file in behavior_files:\n",
    "        if'bpod_zaber.npy' in behavior_file:\n",
    "            behavior_data=np.load(os.path.join(behavior_dir,behavior_file),allow_pickle = True).tolist()\n",
    "            break\n",
    "\n",
    "    for r,sfn in zip(behavior_data['reward_L'],behavior_data['scanimage_file_names']):\n",
    "        if type(sfn) == str:\n",
    "            goodtrials.append(False)\n",
    "        else:\n",
    "            goodtrials.append(True)\n",
    "        if len(r)==0:\n",
    "            hittrials.append(False)\n",
    "        else:\n",
    "            hittrials.append(True)\n",
    "    goodtrials = np.asarray(goodtrials)    \n",
    "    hittrials = np.asarray(hittrials)    \n",
    "    \n",
    "    for movienames in behavior_data['behavior_movie_name_list'][goodtrials]:\n",
    "        for moviename in movienames:\n",
    "            if 'side' in moviename:\n",
    "                is_side_camera_active = True\n",
    "            if 'bottom' in moviename:\n",
    "                is_bottom_camera_active = True\n",
    "            if is_bottom_camera_active and is_side_camera_active:\n",
    "                break\n",
    "        if is_bottom_camera_active and is_side_camera_active:\n",
    "                break\n",
    "    cn_num = []\n",
    "    for cn_now in behavior_data['scanimage_roi_outputChannelsRoiNames']:\n",
    "        cn_num.append(len(cn_now))\n",
    "    cn_num = int(np.mean(np.asarray(cn_num)[goodtrials]))\n",
    "    if cn_num ==1:\n",
    "        behavior_task_name = \"single neuron BCI conditioning\"\n",
    "    elif cn_num ==2:\n",
    "        behavior_task_name = \"two neuron BCI conditioning\"\n",
    "    elif cn_num>2:\n",
    "        behavior_task_name = \"multi-neuron BCI conditioning\"\n",
    "    else:\n",
    "        print('how many CNs??')\n",
    "        asdasd\n",
    "    print(behavior_task_name)\n",
    "    #ry:\n",
    "    user_settings = JobSettings(input_source=Path(ophys_dir),\n",
    "                                output_directory=Path('/'.join(behavior_dir.split('/')[:-1])),\n",
    "                                experimenter_full_name=[\"Kayvon Daie\", \"Marton Rozsa\"],\n",
    "                                subject_id=str(int(session_row['subject_id'])),\n",
    "                                imaging_laser_wavelength = 920,\n",
    "                                fov_imaging_depth= 200,\n",
    "                                fov_targeted_structure= 'Primary Motor Cortex',\n",
    "                                notes= 'This metadata was generated from old data post-hoc on {} - version {}'.format(datetime.datetime.now(),version),\n",
    "                                session_type= \"BCI\",\n",
    "                                iacuc_protocol=  \"2109\",\n",
    "                                rig_id=  \"442_Bergamo_2p_photostim\",\n",
    "                                behavior_camera_names= np.asarray([\"Side Face Camera\",\"Bottom Face Camera\"])[np.asarray([is_side_camera_active,is_bottom_camera_active])].tolist(),\n",
    "                                imaging_laser_name= \"Chameleon Laser\",\n",
    "                                photostim_laser_name= \"Monaco Laser\",\n",
    "                                photostim_laser_wavelength=  1035,\n",
    "                                starting_lickport_position= [0,\n",
    "                                                             -1*np.abs(np.median(behavior_data['zaber_reward_zone']-behavior_data['zaber_limit_far'])),\n",
    "                                                             0],\n",
    "                                behavior_task_name=  behavior_task_name,\n",
    "                                hit_rate_trials_0_10= np.nanmean(hittrials[goodtrials][:10]),\n",
    "                                hit_rate_trials_20_40=  np.nanmean(hittrials[goodtrials][20:40]),\n",
    "                                total_hits= sum(hittrials[goodtrials]),\n",
    "                                average_hit_rate=  sum(hittrials[goodtrials])/sum(goodtrials),\n",
    "                                trial_num=sum(goodtrials))\n",
    "    etl_job = BergamoEtl(job_settings=user_settings,)\n",
    "    try:\n",
    "        session_metadata = etl_job.run_job()\n",
    "    except:\n",
    "        print('error during generating metadata.. skipping')\n",
    "    # except:\n",
    "    #     print('error, could not extract metadata')\n",
    "    \n",
    "            \n",
    "    #asd\n",
    "    "
   ]
  },
  {
   "cell_type": "code",
   "execution_count": null,
   "id": "9d0dc5b0-d38a-457c-9e03-750d7a5d0e20",
   "metadata": {},
   "outputs": [],
   "source": [
    "behavior_data.keys()"
   ]
  },
  {
   "cell_type": "code",
   "execution_count": 16,
   "id": "db613aa8-0300-4224-8ab3-48b4d85ccf43",
   "metadata": {},
   "outputs": [
    {
     "data": {
      "text/plain": [
       "1"
      ]
     },
     "execution_count": 16,
     "metadata": {},
     "output_type": "execute_result"
    }
   ],
   "source": []
  }
 ],
 "metadata": {
  "environment": {
   "kernel": "migrate_to_co",
   "name": "common-cpu.m92",
   "type": "gcloud",
   "uri": "gcr.io/deeplearning-platform-release/base-cpu:m92"
  },
  "kernelspec": {
   "display_name": "migrate_to_co",
   "language": "python",
   "name": "migrate_to_co"
  },
  "language_info": {
   "codemirror_mode": {
    "name": "ipython",
    "version": 3
   },
   "file_extension": ".py",
   "mimetype": "text/x-python",
   "name": "python",
   "nbconvert_exporter": "python",
   "pygments_lexer": "ipython3",
   "version": "3.10.13"
  }
 },
 "nbformat": 4,
 "nbformat_minor": 5
}
